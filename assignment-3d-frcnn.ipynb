{
 "cells": [
  {
   "cell_type": "code",
   "execution_count": 1,
   "id": "4e4aa477",
   "metadata": {
    "_cell_guid": "b1076dfc-b9ad-4769-8c92-a6c4dae69d19",
    "_uuid": "8f2839f25d086af736a60e9eeb907d3b93b6e0e5",
    "execution": {
     "iopub.execute_input": "2023-03-21T04:09:23.063020Z",
     "iopub.status.busy": "2023-03-21T04:09:23.062316Z",
     "iopub.status.idle": "2023-03-21T04:09:25.681284Z",
     "shell.execute_reply": "2023-03-21T04:09:25.680280Z"
    },
    "papermill": {
     "duration": 2.62596,
     "end_time": "2023-03-21T04:09:25.684056",
     "exception": false,
     "start_time": "2023-03-21T04:09:23.058096",
     "status": "completed"
    },
    "tags": []
   },
   "outputs": [],
   "source": [
    "# import necessary libraries\n",
    "import matplotlib.pyplot as plt \n",
    "import torch\n",
    "import torchvision.transforms as T\n",
    "import torchvision\n",
    "import numpy as np \n",
    "import cv2\n",
    "import warnings\n",
    "warnings.filterwarnings('ignore')"
   ]
  },
  {
   "cell_type": "code",
   "execution_count": 2,
   "id": "e75ecdcb",
   "metadata": {
    "execution": {
     "iopub.execute_input": "2023-03-21T04:09:25.690182Z",
     "iopub.status.busy": "2023-03-21T04:09:25.689766Z",
     "iopub.status.idle": "2023-03-21T04:09:47.806893Z",
     "shell.execute_reply": "2023-03-21T04:09:47.805915Z"
    },
    "papermill": {
     "duration": 22.123114,
     "end_time": "2023-03-21T04:09:47.809466",
     "exception": false,
     "start_time": "2023-03-21T04:09:25.686352",
     "status": "completed"
    },
    "tags": []
   },
   "outputs": [
    {
     "name": "stderr",
     "output_type": "stream",
     "text": [
      "Downloading: \"https://download.pytorch.org/models/fasterrcnn_resnet50_fpn_coco-258fb6c6.pth\" to /root/.cache/torch/hub/checkpoints/fasterrcnn_resnet50_fpn_coco-258fb6c6.pth\n"
     ]
    },
    {
     "data": {
      "application/vnd.jupyter.widget-view+json": {
       "model_id": "bb53c1a278cc4fa1865805246f9ec379",
       "version_major": 2,
       "version_minor": 0
      },
      "text/plain": [
       "  0%|          | 0.00/160M [00:00<?, ?B/s]"
      ]
     },
     "metadata": {},
     "output_type": "display_data"
    }
   ],
   "source": [
    "# load model\n",
    "model = torchvision.models.detection.fasterrcnn_resnet50_fpn(pretrained=True)\n",
    "# set to evaluation mode\n",
    "model.eval()\n",
    "\n",
    "\n",
    "# load the COCO dataset category names\n",
    "# we will use the same list for this notebook\n",
    "COCO_INSTANCE_CATEGORY_NAMES = [\n",
    "    '__background__', 'person', 'bicycle', 'car', 'motorcycle', 'airplane', 'bus',\n",
    "    'train', 'truck', 'boat', 'traffic light', 'fire hydrant', 'N/A', 'stop sign',\n",
    "    'parking meter', 'bench', 'bird', 'cat', 'dog', 'horse', 'sheep', 'cow',\n",
    "    'elephant', 'bear', 'zebra', 'giraffe', 'N/A', 'backpack', 'umbrella', 'N/A', 'N/A',\n",
    "    'handbag', 'tie', 'suitcase', 'frisbee', 'skis', 'snowboard', 'sports ball',\n",
    "    'kite', 'baseball bat', 'baseball glove', 'skateboard', 'surfboard', 'tennis racket',\n",
    "    'bottle', 'N/A', 'wine glass', 'cup', 'fork', 'knife', 'spoon', 'bowl',\n",
    "    'banana', 'apple', 'sandwich', 'orange', 'broccoli', 'carrot', 'hot dog', 'pizza',\n",
    "    'donut', 'cake', 'chair', 'couch', 'potted plant', 'bed', 'N/A', 'dining table',\n",
    "    'N/A', 'N/A', 'toilet', 'N/A', 'tv', 'laptop', 'mouse', 'remote', 'keyboard', 'cell phone',\n",
    "    'microwave', 'oven', 'toaster', 'sink', 'refrigerator', 'N/A', 'book',\n",
    "    'clock', 'vase', 'scissors', 'teddy bear', 'hair drier', 'toothbrush'\n",
    "]"
   ]
  },
  {
   "cell_type": "code",
   "execution_count": 3,
   "id": "24a932ad",
   "metadata": {
    "execution": {
     "iopub.execute_input": "2023-03-21T04:09:47.815649Z",
     "iopub.status.busy": "2023-03-21T04:09:47.815338Z",
     "iopub.status.idle": "2023-03-21T04:09:47.826762Z",
     "shell.execute_reply": "2023-03-21T04:09:47.825857Z"
    },
    "papermill": {
     "duration": 0.016826,
     "end_time": "2023-03-21T04:09:47.828798",
     "exception": false,
     "start_time": "2023-03-21T04:09:47.811972",
     "status": "completed"
    },
    "tags": []
   },
   "outputs": [],
   "source": [
    "class Object_Detector:\n",
    "    def __init__(self):\n",
    "        pass\n",
    "    \n",
    "    def get_prediction(self, img, confidence):\n",
    "      transform = T.Compose([T.ToTensor()])\n",
    "      img = transform(img)\n",
    "      pred = model([img])\n",
    "      pred_class = [COCO_INSTANCE_CATEGORY_NAMES[i] for i in list(pred[0]['labels'].numpy())]\n",
    "      pred_boxes = [[(i[0], i[1]), (i[2], i[3])] for i in list(pred[0]['boxes'].detach().numpy())]\n",
    "      pred_score = list(pred[0]['scores'].detach().numpy())\n",
    "      pred_t = [pred_score.index(x) for x in pred_score if x>confidence][-1]\n",
    "      pred_boxes = pred_boxes[:pred_t+1]\n",
    "      pred_class = pred_class[:pred_t+1]\n",
    "      return pred_boxes, pred_class\n",
    "\n",
    "    def detect_object(self, img, confidence=0.5):\n",
    "      boxes, pred_cls = self.get_prediction(img, confidence)\n",
    "\n",
    "      for i in range(len(boxes)):\n",
    "        cv2.rectangle(img, (int(boxes[i][0][0]), int(boxes[i][0][1])), (int(boxes[i][1][0]), int(boxes[i][1][1])),color=(0, 255, 0), thickness=3)\n",
    "        cv2.putText(img,pred_cls[i], (int(boxes[i][0][0]), int(boxes[i][0][1])), cv2.FONT_HERSHEY_SIMPLEX, 1, (0,255,0),thickness=2)\n",
    "\n",
    "      return img\n",
    "    "
   ]
  },
  {
   "cell_type": "code",
   "execution_count": 4,
   "id": "a1abe70a",
   "metadata": {
    "execution": {
     "iopub.execute_input": "2023-03-21T04:09:47.834720Z",
     "iopub.status.busy": "2023-03-21T04:09:47.833931Z",
     "iopub.status.idle": "2023-03-21T04:37:36.750980Z",
     "shell.execute_reply": "2023-03-21T04:37:36.749865Z"
    },
    "papermill": {
     "duration": 1668.922916,
     "end_time": "2023-03-21T04:37:36.753891",
     "exception": false,
     "start_time": "2023-03-21T04:09:47.830975",
     "status": "completed"
    },
    "tags": []
   },
   "outputs": [],
   "source": [
    "vidcap = cv2.VideoCapture('/kaggle/input/car-video/video.mp4')\n",
    "\n",
    "success = True\n",
    "count = 0\n",
    "img_array = []\n",
    "\n",
    "while success:\n",
    "    success,image = vidcap.read()\n",
    "    \n",
    "    if(success == 0 or image is None): \n",
    "        break\n",
    "        \n",
    "    OD = Object_Detector()\n",
    "    img_array.append(OD.detect_object(image, confidence=0.7))\n",
    "    \n",
    "    if(count == 12 or count == 200 or count == 400):\n",
    "        cv2.imwrite(\"frame%d.jpg\" % count, img_array[-1])     # save frame as JPEG file\n",
    "        \n",
    "    if(count == 300): # Edge Case\n",
    "        break\n",
    "        \n",
    "    count += 1"
   ]
  },
  {
   "cell_type": "code",
   "execution_count": 5,
   "id": "d837e9e3",
   "metadata": {
    "execution": {
     "iopub.execute_input": "2023-03-21T04:37:36.759954Z",
     "iopub.status.busy": "2023-03-21T04:37:36.759604Z",
     "iopub.status.idle": "2023-03-21T04:37:43.244845Z",
     "shell.execute_reply": "2023-03-21T04:37:43.243794Z"
    },
    "papermill": {
     "duration": 6.491675,
     "end_time": "2023-03-21T04:37:43.248106",
     "exception": false,
     "start_time": "2023-03-21T04:37:36.756431",
     "status": "completed"
    },
    "tags": []
   },
   "outputs": [],
   "source": [
    "height, width, layers = img_array[0].shape\n",
    "size = (width,height)\n",
    "\n",
    "out = cv2.VideoWriter('project_FRCNN.avi',cv2.VideoWriter_fourcc(*'DIVX'), 15, size)\n",
    " \n",
    "for i in range(len(img_array)):\n",
    "    out.write(img_array[i])\n",
    "out.release()"
   ]
  },
  {
   "cell_type": "code",
   "execution_count": null,
   "id": "18ff8999",
   "metadata": {
    "papermill": {
     "duration": 0.002061,
     "end_time": "2023-03-21T04:37:43.253024",
     "exception": false,
     "start_time": "2023-03-21T04:37:43.250963",
     "status": "completed"
    },
    "tags": []
   },
   "outputs": [],
   "source": []
  }
 ],
 "metadata": {
  "kernelspec": {
   "display_name": "Python 3",
   "language": "python",
   "name": "python3"
  },
  "language_info": {
   "codemirror_mode": {
    "name": "ipython",
    "version": 3
   },
   "file_extension": ".py",
   "mimetype": "text/x-python",
   "name": "python",
   "nbconvert_exporter": "python",
   "pygments_lexer": "ipython3",
   "version": "3.7.12"
  },
  "papermill": {
   "default_parameters": {},
   "duration": 1710.215599,
   "end_time": "2023-03-21T04:37:44.480869",
   "environment_variables": {},
   "exception": null,
   "input_path": "__notebook__.ipynb",
   "output_path": "__notebook__.ipynb",
   "parameters": {},
   "start_time": "2023-03-21T04:09:14.265270",
   "version": "2.4.0"
  },
  "widgets": {
   "application/vnd.jupyter.widget-state+json": {
    "state": {
     "04a8135a9aca4b3e94bd1dcb4134a30f": {
      "model_module": "@jupyter-widgets/controls",
      "model_module_version": "1.5.0",
      "model_name": "ProgressStyleModel",
      "state": {
       "_model_module": "@jupyter-widgets/controls",
       "_model_module_version": "1.5.0",
       "_model_name": "ProgressStyleModel",
       "_view_count": null,
       "_view_module": "@jupyter-widgets/base",
       "_view_module_version": "1.2.0",
       "_view_name": "StyleView",
       "bar_color": null,
       "description_width": ""
      }
     },
     "067263019c7140639ef028085a2cbd6c": {
      "model_module": "@jupyter-widgets/base",
      "model_module_version": "1.2.0",
      "model_name": "LayoutModel",
      "state": {
       "_model_module": "@jupyter-widgets/base",
       "_model_module_version": "1.2.0",
       "_model_name": "LayoutModel",
       "_view_count": null,
       "_view_module": "@jupyter-widgets/base",
       "_view_module_version": "1.2.0",
       "_view_name": "LayoutView",
       "align_content": null,
       "align_items": null,
       "align_self": null,
       "border": null,
       "bottom": null,
       "display": null,
       "flex": null,
       "flex_flow": null,
       "grid_area": null,
       "grid_auto_columns": null,
       "grid_auto_flow": null,
       "grid_auto_rows": null,
       "grid_column": null,
       "grid_gap": null,
       "grid_row": null,
       "grid_template_areas": null,
       "grid_template_columns": null,
       "grid_template_rows": null,
       "height": null,
       "justify_content": null,
       "justify_items": null,
       "left": null,
       "margin": null,
       "max_height": null,
       "max_width": null,
       "min_height": null,
       "min_width": null,
       "object_fit": null,
       "object_position": null,
       "order": null,
       "overflow": null,
       "overflow_x": null,
       "overflow_y": null,
       "padding": null,
       "right": null,
       "top": null,
       "visibility": null,
       "width": null
      }
     },
     "08b0c56849004488956f3f35981d7a5a": {
      "model_module": "@jupyter-widgets/controls",
      "model_module_version": "1.5.0",
      "model_name": "HTMLModel",
      "state": {
       "_dom_classes": [],
       "_model_module": "@jupyter-widgets/controls",
       "_model_module_version": "1.5.0",
       "_model_name": "HTMLModel",
       "_view_count": null,
       "_view_module": "@jupyter-widgets/controls",
       "_view_module_version": "1.5.0",
       "_view_name": "HTMLView",
       "description": "",
       "description_tooltip": null,
       "layout": "IPY_MODEL_f6fc5b5078be49b897bb925119f13f9a",
       "placeholder": "​",
       "style": "IPY_MODEL_9994f540181b431daea5c254a17756cd",
       "value": "100%"
      }
     },
     "36b5a09156ab43d08542b8b9ea4f1ba3": {
      "model_module": "@jupyter-widgets/base",
      "model_module_version": "1.2.0",
      "model_name": "LayoutModel",
      "state": {
       "_model_module": "@jupyter-widgets/base",
       "_model_module_version": "1.2.0",
       "_model_name": "LayoutModel",
       "_view_count": null,
       "_view_module": "@jupyter-widgets/base",
       "_view_module_version": "1.2.0",
       "_view_name": "LayoutView",
       "align_content": null,
       "align_items": null,
       "align_self": null,
       "border": null,
       "bottom": null,
       "display": null,
       "flex": null,
       "flex_flow": null,
       "grid_area": null,
       "grid_auto_columns": null,
       "grid_auto_flow": null,
       "grid_auto_rows": null,
       "grid_column": null,
       "grid_gap": null,
       "grid_row": null,
       "grid_template_areas": null,
       "grid_template_columns": null,
       "grid_template_rows": null,
       "height": null,
       "justify_content": null,
       "justify_items": null,
       "left": null,
       "margin": null,
       "max_height": null,
       "max_width": null,
       "min_height": null,
       "min_width": null,
       "object_fit": null,
       "object_position": null,
       "order": null,
       "overflow": null,
       "overflow_x": null,
       "overflow_y": null,
       "padding": null,
       "right": null,
       "top": null,
       "visibility": null,
       "width": null
      }
     },
     "51f79fd5ce724c468509e2d5f7da75e1": {
      "model_module": "@jupyter-widgets/base",
      "model_module_version": "1.2.0",
      "model_name": "LayoutModel",
      "state": {
       "_model_module": "@jupyter-widgets/base",
       "_model_module_version": "1.2.0",
       "_model_name": "LayoutModel",
       "_view_count": null,
       "_view_module": "@jupyter-widgets/base",
       "_view_module_version": "1.2.0",
       "_view_name": "LayoutView",
       "align_content": null,
       "align_items": null,
       "align_self": null,
       "border": null,
       "bottom": null,
       "display": null,
       "flex": null,
       "flex_flow": null,
       "grid_area": null,
       "grid_auto_columns": null,
       "grid_auto_flow": null,
       "grid_auto_rows": null,
       "grid_column": null,
       "grid_gap": null,
       "grid_row": null,
       "grid_template_areas": null,
       "grid_template_columns": null,
       "grid_template_rows": null,
       "height": null,
       "justify_content": null,
       "justify_items": null,
       "left": null,
       "margin": null,
       "max_height": null,
       "max_width": null,
       "min_height": null,
       "min_width": null,
       "object_fit": null,
       "object_position": null,
       "order": null,
       "overflow": null,
       "overflow_x": null,
       "overflow_y": null,
       "padding": null,
       "right": null,
       "top": null,
       "visibility": null,
       "width": null
      }
     },
     "766d98916fe34c0f8b114658c4ac972c": {
      "model_module": "@jupyter-widgets/controls",
      "model_module_version": "1.5.0",
      "model_name": "DescriptionStyleModel",
      "state": {
       "_model_module": "@jupyter-widgets/controls",
       "_model_module_version": "1.5.0",
       "_model_name": "DescriptionStyleModel",
       "_view_count": null,
       "_view_module": "@jupyter-widgets/base",
       "_view_module_version": "1.2.0",
       "_view_name": "StyleView",
       "description_width": ""
      }
     },
     "7c7b3798f5f6430c8a59b7bbc1fea4ee": {
      "model_module": "@jupyter-widgets/controls",
      "model_module_version": "1.5.0",
      "model_name": "FloatProgressModel",
      "state": {
       "_dom_classes": [],
       "_model_module": "@jupyter-widgets/controls",
       "_model_module_version": "1.5.0",
       "_model_name": "FloatProgressModel",
       "_view_count": null,
       "_view_module": "@jupyter-widgets/controls",
       "_view_module_version": "1.5.0",
       "_view_name": "ProgressView",
       "bar_style": "success",
       "description": "",
       "description_tooltip": null,
       "layout": "IPY_MODEL_36b5a09156ab43d08542b8b9ea4f1ba3",
       "max": 167502836.0,
       "min": 0.0,
       "orientation": "horizontal",
       "style": "IPY_MODEL_04a8135a9aca4b3e94bd1dcb4134a30f",
       "value": 167502836.0
      }
     },
     "9994f540181b431daea5c254a17756cd": {
      "model_module": "@jupyter-widgets/controls",
      "model_module_version": "1.5.0",
      "model_name": "DescriptionStyleModel",
      "state": {
       "_model_module": "@jupyter-widgets/controls",
       "_model_module_version": "1.5.0",
       "_model_name": "DescriptionStyleModel",
       "_view_count": null,
       "_view_module": "@jupyter-widgets/base",
       "_view_module_version": "1.2.0",
       "_view_name": "StyleView",
       "description_width": ""
      }
     },
     "a989c8c548684263a9bad05c26d378d6": {
      "model_module": "@jupyter-widgets/controls",
      "model_module_version": "1.5.0",
      "model_name": "HTMLModel",
      "state": {
       "_dom_classes": [],
       "_model_module": "@jupyter-widgets/controls",
       "_model_module_version": "1.5.0",
       "_model_name": "HTMLModel",
       "_view_count": null,
       "_view_module": "@jupyter-widgets/controls",
       "_view_module_version": "1.5.0",
       "_view_name": "HTMLView",
       "description": "",
       "description_tooltip": null,
       "layout": "IPY_MODEL_51f79fd5ce724c468509e2d5f7da75e1",
       "placeholder": "​",
       "style": "IPY_MODEL_766d98916fe34c0f8b114658c4ac972c",
       "value": " 160M/160M [00:20&lt;00:00, 22.8MB/s]"
      }
     },
     "bb53c1a278cc4fa1865805246f9ec379": {
      "model_module": "@jupyter-widgets/controls",
      "model_module_version": "1.5.0",
      "model_name": "HBoxModel",
      "state": {
       "_dom_classes": [],
       "_model_module": "@jupyter-widgets/controls",
       "_model_module_version": "1.5.0",
       "_model_name": "HBoxModel",
       "_view_count": null,
       "_view_module": "@jupyter-widgets/controls",
       "_view_module_version": "1.5.0",
       "_view_name": "HBoxView",
       "box_style": "",
       "children": [
        "IPY_MODEL_08b0c56849004488956f3f35981d7a5a",
        "IPY_MODEL_7c7b3798f5f6430c8a59b7bbc1fea4ee",
        "IPY_MODEL_a989c8c548684263a9bad05c26d378d6"
       ],
       "layout": "IPY_MODEL_067263019c7140639ef028085a2cbd6c"
      }
     },
     "f6fc5b5078be49b897bb925119f13f9a": {
      "model_module": "@jupyter-widgets/base",
      "model_module_version": "1.2.0",
      "model_name": "LayoutModel",
      "state": {
       "_model_module": "@jupyter-widgets/base",
       "_model_module_version": "1.2.0",
       "_model_name": "LayoutModel",
       "_view_count": null,
       "_view_module": "@jupyter-widgets/base",
       "_view_module_version": "1.2.0",
       "_view_name": "LayoutView",
       "align_content": null,
       "align_items": null,
       "align_self": null,
       "border": null,
       "bottom": null,
       "display": null,
       "flex": null,
       "flex_flow": null,
       "grid_area": null,
       "grid_auto_columns": null,
       "grid_auto_flow": null,
       "grid_auto_rows": null,
       "grid_column": null,
       "grid_gap": null,
       "grid_row": null,
       "grid_template_areas": null,
       "grid_template_columns": null,
       "grid_template_rows": null,
       "height": null,
       "justify_content": null,
       "justify_items": null,
       "left": null,
       "margin": null,
       "max_height": null,
       "max_width": null,
       "min_height": null,
       "min_width": null,
       "object_fit": null,
       "object_position": null,
       "order": null,
       "overflow": null,
       "overflow_x": null,
       "overflow_y": null,
       "padding": null,
       "right": null,
       "top": null,
       "visibility": null,
       "width": null
      }
     }
    },
    "version_major": 2,
    "version_minor": 0
   }
  }
 },
 "nbformat": 4,
 "nbformat_minor": 5
}
