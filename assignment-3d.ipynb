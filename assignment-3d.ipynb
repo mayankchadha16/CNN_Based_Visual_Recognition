{
 "cells": [
  {
   "cell_type": "code",
   "execution_count": 1,
   "id": "2f547ee3",
   "metadata": {
    "_cell_guid": "b1076dfc-b9ad-4769-8c92-a6c4dae69d19",
    "_uuid": "8f2839f25d086af736a60e9eeb907d3b93b6e0e5",
    "execution": {
     "iopub.execute_input": "2023-03-20T13:48:43.675124Z",
     "iopub.status.busy": "2023-03-20T13:48:43.673944Z",
     "iopub.status.idle": "2023-03-20T13:48:43.857792Z",
     "shell.execute_reply": "2023-03-20T13:48:43.856605Z"
    },
    "papermill": {
     "duration": 0.19122,
     "end_time": "2023-03-20T13:48:43.860489",
     "exception": false,
     "start_time": "2023-03-20T13:48:43.669269",
     "status": "completed"
    },
    "tags": []
   },
   "outputs": [],
   "source": [
    "import cv2\n",
    "import numpy as np\n",
    "from matplotlib import pyplot as plt"
   ]
  },
  {
   "cell_type": "code",
   "execution_count": 2,
   "id": "71305f3d",
   "metadata": {
    "execution": {
     "iopub.execute_input": "2023-03-20T13:48:43.866333Z",
     "iopub.status.busy": "2023-03-20T13:48:43.866028Z",
     "iopub.status.idle": "2023-03-20T13:48:47.141442Z",
     "shell.execute_reply": "2023-03-20T13:48:47.140190Z"
    },
    "papermill": {
     "duration": 3.281159,
     "end_time": "2023-03-20T13:48:47.144046",
     "exception": false,
     "start_time": "2023-03-20T13:48:43.862887",
     "status": "completed"
    },
    "tags": []
   },
   "outputs": [
    {
     "name": "stdout",
     "output_type": "stream",
     "text": [
      "--2023-03-20 13:48:44--  https://pjreddie.com/media/files/yolov3.weights\r\n",
      "Resolving pjreddie.com (pjreddie.com)... 128.208.4.108\r\n",
      "Connecting to pjreddie.com (pjreddie.com)|128.208.4.108|:443... connected.\r\n",
      "HTTP request sent, awaiting response... 200 OK\r\n",
      "Length: 248007048 (237M) [application/octet-stream]\r\n",
      "Saving to: ‘yolov3.weights’\r\n",
      "\r\n",
      "yolov3.weights      100%[===================>] 236.52M   105MB/s    in 2.2s    \r\n",
      "\r\n",
      "2023-03-20 13:48:47 (105 MB/s) - ‘yolov3.weights’ saved [248007048/248007048]\r\n",
      "\r\n"
     ]
    }
   ],
   "source": [
    "!wget https://pjreddie.com/media/files/yolov3.weights"
   ]
  },
  {
   "cell_type": "code",
   "execution_count": 3,
   "id": "80afae1b",
   "metadata": {
    "execution": {
     "iopub.execute_input": "2023-03-20T13:48:47.151862Z",
     "iopub.status.busy": "2023-03-20T13:48:47.151516Z",
     "iopub.status.idle": "2023-03-20T13:48:47.169296Z",
     "shell.execute_reply": "2023-03-20T13:48:47.168207Z"
    },
    "papermill": {
     "duration": 0.024793,
     "end_time": "2023-03-20T13:48:47.171906",
     "exception": false,
     "start_time": "2023-03-20T13:48:47.147113",
     "status": "completed"
    },
    "tags": []
   },
   "outputs": [],
   "source": [
    "class Object_Detector:\n",
    "    def __init__(self, image):\n",
    "        self.image = image\n",
    "        self.Width = image.shape[1]\n",
    "        self.Height = image.shape[0]\n",
    "        self.scale = 0.00392\n",
    "        \n",
    "        self.model_setup()\n",
    "        self.run_inference()\n",
    "    \n",
    "    def model_setup(self):\n",
    "\n",
    "        self.classes = None\n",
    "        with open('/kaggle/input/images-and-cfg/yolov3.txt', 'r') as f:\n",
    "            self.classes = [line.strip() for line in f.readlines()]\n",
    "\n",
    "        # read pre-trained model and config file\n",
    "        self.net = cv2.dnn.readNet('/kaggle/working/yolov3.weights', '/kaggle/input/images-and-cfg/yolov3.cfg')\n",
    "\n",
    "        # create input blob \n",
    "        blob = cv2.dnn.blobFromImage(self.image, self.scale, (416,416), (0,0,0), True, crop=False)\n",
    "\n",
    "        # set input blob for the network\n",
    "        self.net.setInput(blob)\n",
    "\n",
    "    # function to get the output layer names \n",
    "    # in the architecture\n",
    "    def get_output_layers(self):\n",
    "\n",
    "        layer_names = self.net.getLayerNames()\n",
    "\n",
    "        output_layers = [layer_names[i - 1] for i in self.net.getUnconnectedOutLayers()]\n",
    "\n",
    "        return output_layers\n",
    "\n",
    "    # function to draw bounding box on the detected object with class name\n",
    "    def draw_bounding_box(self, img, class_id, confidence, x, y, x_plus_w, y_plus_h):\n",
    "\n",
    "        label = str(self.classes[class_id])\n",
    "\n",
    "        cv2.rectangle(img, (x,y), (x_plus_w,y_plus_h), (0, 255, 0), 3)\n",
    "    \n",
    "        cv2.putText(img, label, (x-10,y-10), cv2.FONT_HERSHEY_SIMPLEX, 1, (0, 255, 0), 2)\n",
    "        \n",
    "    def run_inference(self):\n",
    "        # run inference through the network\n",
    "        # and gather predictions from output layers\n",
    "        outs = self.net.forward(self.get_output_layers())\n",
    "\n",
    "        # initialization\n",
    "        self.class_ids = []\n",
    "        self.confidences = []\n",
    "        self.boxes = []\n",
    "        self.conf_threshold = 0.5\n",
    "        self.nms_threshold = 0.4\n",
    "\n",
    "        # for each detetion from each output layer \n",
    "        # get the confidence, class id, bounding box params\n",
    "        # and ignore weak detections (confidence < 0.5)\n",
    "        for out in outs:\n",
    "            for detection in out:\n",
    "                scores = detection[5:]\n",
    "                class_id = np.argmax(scores)\n",
    "                confidence = scores[class_id]\n",
    "                if confidence > 0.5:\n",
    "                    center_x = int(detection[0] * self.Width)\n",
    "                    center_y = int(detection[1] * self.Height)\n",
    "                    w = int(detection[2] * self.Width)\n",
    "                    h = int(detection[3] * self.Height)\n",
    "                    x = center_x - w / 2\n",
    "                    y = center_y - h / 2\n",
    "                    self.class_ids.append(class_id)\n",
    "                    self.confidences.append(float(confidence))\n",
    "                    self.boxes.append([x, y, w, h])\n",
    "                    \n",
    "    def get_output(self):\n",
    "        # apply non-max suppression\n",
    "        indices = cv2.dnn.NMSBoxes(self.boxes, self.confidences, self.conf_threshold, self.nms_threshold)\n",
    "\n",
    "        # go through the detections remaining\n",
    "        for i in indices:\n",
    "            box = self.boxes[i]\n",
    "            x = box[0]\n",
    "            y = box[1]\n",
    "            w = box[2]\n",
    "            h = box[3]\n",
    "\n",
    "            self.draw_bounding_box(self.image, self.class_ids[i], self.confidences[i], round(x), round(y), round(x+w), round(y+h))\n",
    "\n",
    "        return self.image\n"
   ]
  },
  {
   "cell_type": "code",
   "execution_count": 4,
   "id": "525ddef3",
   "metadata": {
    "execution": {
     "iopub.execute_input": "2023-03-20T13:48:47.178769Z",
     "iopub.status.busy": "2023-03-20T13:48:47.178446Z",
     "iopub.status.idle": "2023-03-20T14:03:08.079649Z",
     "shell.execute_reply": "2023-03-20T14:03:08.078431Z"
    },
    "papermill": {
     "duration": 860.907967,
     "end_time": "2023-03-20T14:03:08.082703",
     "exception": false,
     "start_time": "2023-03-20T13:48:47.174736",
     "status": "completed"
    },
    "tags": []
   },
   "outputs": [],
   "source": [
    "vidcap = cv2.VideoCapture('/kaggle/input/car-video/video.mp4')\n",
    "\n",
    "success = True\n",
    "count = 0\n",
    "img_array = []\n",
    "\n",
    "while success:\n",
    "    success,image = vidcap.read()\n",
    "    \n",
    "    if(success == 0 or image is None): \n",
    "        break\n",
    "        \n",
    "    OD = Object_Detector(image)\n",
    "    img_array.append(OD.get_output())\n",
    "    \n",
    "    if(count == 12 or count == 200 or count == 400):\n",
    "        cv2.imwrite(\"frame%d.jpg\" % count, img_array[-1])     # save frame as JPEG file\n",
    "        \n",
    "    count += 1"
   ]
  },
  {
   "cell_type": "code",
   "execution_count": 5,
   "id": "21b92bee",
   "metadata": {
    "execution": {
     "iopub.execute_input": "2023-03-20T14:03:08.090270Z",
     "iopub.status.busy": "2023-03-20T14:03:08.089910Z",
     "iopub.status.idle": "2023-03-20T14:03:19.625573Z",
     "shell.execute_reply": "2023-03-20T14:03:19.624560Z"
    },
    "papermill": {
     "duration": 11.542338,
     "end_time": "2023-03-20T14:03:19.628303",
     "exception": false,
     "start_time": "2023-03-20T14:03:08.085965",
     "status": "completed"
    },
    "tags": []
   },
   "outputs": [],
   "source": [
    "height, width, layers = img_array[0].shape\n",
    "size = (width,height)\n",
    "\n",
    "out = cv2.VideoWriter('project_YOLO.avi',cv2.VideoWriter_fourcc(*'DIVX'), 15, size)\n",
    " \n",
    "for i in range(len(img_array)):\n",
    "    out.write(img_array[i])\n",
    "out.release()"
   ]
  },
  {
   "cell_type": "code",
   "execution_count": null,
   "id": "5c6766f4",
   "metadata": {
    "papermill": {
     "duration": 0.002628,
     "end_time": "2023-03-20T14:03:19.634017",
     "exception": false,
     "start_time": "2023-03-20T14:03:19.631389",
     "status": "completed"
    },
    "tags": []
   },
   "outputs": [],
   "source": []
  }
 ],
 "metadata": {
  "kernelspec": {
   "display_name": "Python 3",
   "language": "python",
   "name": "python3"
  },
  "language_info": {
   "codemirror_mode": {
    "name": "ipython",
    "version": 3
   },
   "file_extension": ".py",
   "mimetype": "text/x-python",
   "name": "python",
   "nbconvert_exporter": "python",
   "pygments_lexer": "ipython3",
   "version": "3.7.12"
  },
  "papermill": {
   "default_parameters": {},
   "duration": 886.422879,
   "end_time": "2023-03-20T14:03:20.460850",
   "environment_variables": {},
   "exception": null,
   "input_path": "__notebook__.ipynb",
   "output_path": "__notebook__.ipynb",
   "parameters": {},
   "start_time": "2023-03-20T13:48:34.037971",
   "version": "2.4.0"
  }
 },
 "nbformat": 4,
 "nbformat_minor": 5
}
