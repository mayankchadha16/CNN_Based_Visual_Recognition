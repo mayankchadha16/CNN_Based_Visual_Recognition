{
 "cells": [
  {
   "cell_type": "code",
   "execution_count": 1,
   "id": "5027df6f",
   "metadata": {
    "execution": {
     "iopub.execute_input": "2023-03-10T04:24:02.574695Z",
     "iopub.status.busy": "2023-03-10T04:24:02.573518Z",
     "iopub.status.idle": "2023-03-10T04:24:04.743291Z",
     "shell.execute_reply": "2023-03-10T04:24:04.742266Z"
    },
    "papermill": {
     "duration": 2.178456,
     "end_time": "2023-03-10T04:24:04.746119",
     "exception": false,
     "start_time": "2023-03-10T04:24:02.567663",
     "status": "completed"
    },
    "tags": []
   },
   "outputs": [],
   "source": [
    "import torch\n",
    "import torch.nn as nn\n",
    "import torch.optim as optim\n",
    "import torchvision\n",
    "from torchvision import transforms\n",
    "\n",
    "import time\n",
    "import numpy as np\n",
    "\n",
    "from tqdm import tqdm"
   ]
  },
  {
   "cell_type": "code",
   "execution_count": 2,
   "id": "5041b56c",
   "metadata": {
    "execution": {
     "iopub.execute_input": "2023-03-10T04:24:04.757893Z",
     "iopub.status.busy": "2023-03-10T04:24:04.756143Z",
     "iopub.status.idle": "2023-03-10T04:24:11.111586Z",
     "shell.execute_reply": "2023-03-10T04:24:11.110458Z"
    },
    "papermill": {
     "duration": 6.361937,
     "end_time": "2023-03-10T04:24:11.113912",
     "exception": false,
     "start_time": "2023-03-10T04:24:04.751975",
     "status": "completed"
    },
    "tags": []
   },
   "outputs": [
    {
     "name": "stdout",
     "output_type": "stream",
     "text": [
      "Downloading https://www.cs.toronto.edu/~kriz/cifar-10-python.tar.gz to ./data/cifar-10-python.tar.gz\n"
     ]
    },
    {
     "data": {
      "application/vnd.jupyter.widget-view+json": {
       "model_id": "94eb88910cff4a51b18f9b50a3428979",
       "version_major": 2,
       "version_minor": 0
      },
      "text/plain": [
       "  0%|          | 0/170498071 [00:00<?, ?it/s]"
      ]
     },
     "metadata": {},
     "output_type": "display_data"
    },
    {
     "name": "stdout",
     "output_type": "stream",
     "text": [
      "Extracting ./data/cifar-10-python.tar.gz to ./data\n",
      "Files already downloaded and verified\n"
     ]
    }
   ],
   "source": [
    "train_set = torchvision.datasets.CIFAR10(root='./data', train=True, download=True, transform=transforms.ToTensor())\n",
    "test_set = torchvision.datasets.CIFAR10(root='./data', train=False, download=True, transform=transforms.ToTensor())\n",
    "\n",
    "train_loader = torch.utils.data.DataLoader(train_set, batch_size=64, shuffle=True)\n",
    "test_loader = torch.utils.data.DataLoader(test_set, batch_size=64, shuffle=False)"
   ]
  },
  {
   "cell_type": "markdown",
   "id": "b2941f9d",
   "metadata": {
    "papermill": {
     "duration": 0.003508,
     "end_time": "2023-03-10T04:24:11.121160",
     "exception": false,
     "start_time": "2023-03-10T04:24:11.117652",
     "status": "completed"
    },
    "tags": []
   },
   "source": [
    "### Building a Convolutional Neural Network\n",
    "\n",
    "#### References\n",
    "\n",
    "[Comparison between activation functions](https://www.aitude.com/comparison-of-sigmoid-tanh-and-relu-activation-functions/#:~:text=ReLu%20is%20the%20best%20and,compare%20to%20other%20activation%20function.)\\\n",
    "[Adaptive Learning](https://towardsdatascience.com/learning-rate-schedules-and-adaptive-learning-rate-methods-for-deep-learning-2c8f433990d1)\\\n",
    "[Momentum or No Momentum](https://medium.com/analytics-vidhya/why-use-the-momentum-optimizer-with-minimal-code-example-8f5d93c33a53)\\\n",
    "[Momentum vs Adaptive Learning](https://medium.com/@vinodhb95/momentum-optimizer-6023aa445e18)"
   ]
  },
  {
   "cell_type": "code",
   "execution_count": 3,
   "id": "877f0cc6",
   "metadata": {
    "execution": {
     "iopub.execute_input": "2023-03-10T04:24:11.130254Z",
     "iopub.status.busy": "2023-03-10T04:24:11.128807Z",
     "iopub.status.idle": "2023-03-10T04:24:11.139177Z",
     "shell.execute_reply": "2023-03-10T04:24:11.138298Z"
    },
    "papermill": {
     "duration": 0.016809,
     "end_time": "2023-03-10T04:24:11.141379",
     "exception": false,
     "start_time": "2023-03-10T04:24:11.124570",
     "status": "completed"
    },
    "tags": []
   },
   "outputs": [],
   "source": [
    "class MyCNN(nn.Module):\n",
    "    def __init__(self, activation):\n",
    "        super(MyCNN, self).__init__()\n",
    "        self.activation = activation\n",
    "        self.conv1 = nn.Conv2d(3, 32, kernel_size=3, padding=1)\n",
    "        self.conv2 = nn.Conv2d(32, 32, kernel_size=3, padding=1)\n",
    "        self.pool1 = nn.MaxPool2d(kernel_size=2, stride=2)\n",
    "        self.conv3 = nn.Conv2d(32, 64, kernel_size=3, padding=1)\n",
    "        self.conv4 = nn.Conv2d(64, 64, kernel_size=3, padding=1)\n",
    "        self.pool2 = nn.MaxPool2d(kernel_size=2, stride=2)\n",
    "        self.dropout = nn.Dropout(0.5)\n",
    "        self.fc1 = nn.Linear(4096, 128)\n",
    "        self.fc2 = nn.Linear(128, 10)\n",
    "        \n",
    "    def forward(self, x):\n",
    "        x = self.activation(self.conv1(x))\n",
    "        x = self.activation(self.conv2(x))\n",
    "        x = self.pool1(x)\n",
    "        x = self.activation(self.conv3(x))\n",
    "        x = self.activation(self.conv4(x))\n",
    "        x = self.pool2(x)\n",
    "        x = x.view(-1, 64*8*8)\n",
    "        x = self.dropout(x)\n",
    "        x = self.activation(self.fc1(x))\n",
    "        x = self.fc2(x)\n",
    "        return x\n"
   ]
  },
  {
   "cell_type": "code",
   "execution_count": 4,
   "id": "ed06b6f9",
   "metadata": {
    "execution": {
     "iopub.execute_input": "2023-03-10T04:24:11.149595Z",
     "iopub.status.busy": "2023-03-10T04:24:11.148796Z",
     "iopub.status.idle": "2023-03-10T04:24:11.155816Z",
     "shell.execute_reply": "2023-03-10T04:24:11.155024Z"
    },
    "papermill": {
     "duration": 0.012975,
     "end_time": "2023-03-10T04:24:11.157744",
     "exception": false,
     "start_time": "2023-03-10T04:24:11.144769",
     "status": "completed"
    },
    "tags": []
   },
   "outputs": [],
   "source": [
    "def training_loop(optimizer, criterion = nn.CrossEntropyLoss().cuda()):\n",
    "    \n",
    "    num_epochs = 10\n",
    "    for epoch in tqdm(range(num_epochs)):\n",
    "        model.train()\n",
    "        for images, labels in train_loader:\n",
    "            images, labels = images.cuda(), labels.cuda() # add this line\n",
    "            \n",
    "            optimizer.zero_grad()\n",
    "            \n",
    "            outputs = model(images)\n",
    "            \n",
    "            loss = criterion(outputs, labels)\n",
    "            loss.backward()\n",
    "            \n",
    "            optimizer.step()"
   ]
  },
  {
   "cell_type": "code",
   "execution_count": 5,
   "id": "1130de21",
   "metadata": {
    "execution": {
     "iopub.execute_input": "2023-03-10T04:24:11.167052Z",
     "iopub.status.busy": "2023-03-10T04:24:11.165526Z",
     "iopub.status.idle": "2023-03-10T04:24:11.172126Z",
     "shell.execute_reply": "2023-03-10T04:24:11.171124Z"
    },
    "papermill": {
     "duration": 0.01295,
     "end_time": "2023-03-10T04:24:11.174061",
     "exception": false,
     "start_time": "2023-03-10T04:24:11.161111",
     "status": "completed"
    },
    "tags": []
   },
   "outputs": [],
   "source": [
    "def testing_loop():\n",
    "    model.eval()\n",
    "    \n",
    "    total_correct = 0\n",
    "    total_images = 0\n",
    "    \n",
    "    with torch.no_grad():\n",
    "        for images, labels in test_loader:\n",
    "            images, labels = images.cuda(), labels.cuda()\n",
    "            \n",
    "            outputs = model(images)\n",
    "            \n",
    "            predictions = torch.argmax(outputs, dim=1)\n",
    "            \n",
    "            total_correct += (predictions == labels).sum().item()\n",
    "            total_images += labels.shape[0]\n",
    "            \n",
    "    accuracy = total_correct / total_images\n",
    "    return accuracy"
   ]
  },
  {
   "cell_type": "code",
   "execution_count": 6,
   "id": "ae74240d",
   "metadata": {
    "execution": {
     "iopub.execute_input": "2023-03-10T04:24:11.181837Z",
     "iopub.status.busy": "2023-03-10T04:24:11.181520Z",
     "iopub.status.idle": "2023-03-10T04:24:11.188263Z",
     "shell.execute_reply": "2023-03-10T04:24:11.187388Z"
    },
    "papermill": {
     "duration": 0.012821,
     "end_time": "2023-03-10T04:24:11.190139",
     "exception": false,
     "start_time": "2023-03-10T04:24:11.177318",
     "status": "completed"
    },
    "tags": []
   },
   "outputs": [],
   "source": [
    "def ModelTester(model,optimizer, name, opt_name):\n",
    "\n",
    "    if torch.cuda.is_available():\n",
    "        model.cuda()\n",
    "    \n",
    "    start = time.time()\n",
    "    \n",
    "    training_loop(optimizer)\n",
    "    print()\n",
    "    print(\"###################################################################################################################\")\n",
    "    print(f\"# Training Time for activation {name} with {opt_name}: \", time.time() - start, \"seconds\")\n",
    "    test_accuracy = testing_loop()\n",
    "    print(f\"# Classification Performance for activation {name} with {opt_name}: {test_accuracy}\")\n",
    "    print(\"###################################################################################################################\")"
   ]
  },
  {
   "cell_type": "code",
   "execution_count": 7,
   "id": "0a99c7fc",
   "metadata": {
    "execution": {
     "iopub.execute_input": "2023-03-10T04:24:11.198588Z",
     "iopub.status.busy": "2023-03-10T04:24:11.197919Z",
     "iopub.status.idle": "2023-03-10T04:25:46.270279Z",
     "shell.execute_reply": "2023-03-10T04:25:46.268962Z"
    },
    "papermill": {
     "duration": 95.078723,
     "end_time": "2023-03-10T04:25:46.272519",
     "exception": false,
     "start_time": "2023-03-10T04:24:11.193796",
     "status": "completed"
    },
    "tags": []
   },
   "outputs": [
    {
     "name": "stderr",
     "output_type": "stream",
     "text": [
      "100%|██████████| 10/10 [01:31<00:00,  9.14s/it]\n"
     ]
    },
    {
     "name": "stdout",
     "output_type": "stream",
     "text": [
      "\n",
      "###################################################################################################################\n",
      "# Training Time for activation relu with Adaptive Learning (Adam):  91.3864860534668 seconds\n",
      "# Classification Performance for activation relu with Adaptive Learning (Adam): 0.7593\n",
      "###################################################################################################################\n"
     ]
    }
   ],
   "source": [
    "activation = nn.ReLU().cuda()\n",
    "model = MyCNN(activation)\n",
    "ModelTester(model, optimizer = optim.Adam(model.parameters()), name = \"relu\", opt_name = \"Adaptive Learning (Adam)\")"
   ]
  },
  {
   "cell_type": "code",
   "execution_count": 8,
   "id": "ab92e02a",
   "metadata": {
    "execution": {
     "iopub.execute_input": "2023-03-10T04:25:46.284019Z",
     "iopub.status.busy": "2023-03-10T04:25:46.282565Z",
     "iopub.status.idle": "2023-03-10T04:27:14.230219Z",
     "shell.execute_reply": "2023-03-10T04:27:14.228556Z"
    },
    "papermill": {
     "duration": 87.956116,
     "end_time": "2023-03-10T04:27:14.233077",
     "exception": false,
     "start_time": "2023-03-10T04:25:46.276961",
     "status": "completed"
    },
    "tags": []
   },
   "outputs": [
    {
     "name": "stderr",
     "output_type": "stream",
     "text": [
      "100%|██████████| 10/10 [01:26<00:00,  8.66s/it]\n"
     ]
    },
    {
     "name": "stdout",
     "output_type": "stream",
     "text": [
      "\n",
      "###################################################################################################################\n",
      "# Training Time for activation tanh with Adaptive Learning (Adam):  86.5818030834198 seconds\n",
      "# Classification Performance for activation tanh with Adaptive Learning (Adam): 0.709\n",
      "###################################################################################################################\n"
     ]
    }
   ],
   "source": [
    "activation = nn.Tanh().cuda()\n",
    "model = MyCNN(activation)\n",
    "ModelTester(model, optimizer = optim.Adam(model.parameters()), name = \"tanh\", opt_name = \"Adaptive Learning (Adam)\")"
   ]
  },
  {
   "cell_type": "code",
   "execution_count": 9,
   "id": "d0e7006c",
   "metadata": {
    "execution": {
     "iopub.execute_input": "2023-03-10T04:27:14.245170Z",
     "iopub.status.busy": "2023-03-10T04:27:14.244879Z",
     "iopub.status.idle": "2023-03-10T04:28:41.184477Z",
     "shell.execute_reply": "2023-03-10T04:28:41.182557Z"
    },
    "papermill": {
     "duration": 86.947809,
     "end_time": "2023-03-10T04:28:41.186694",
     "exception": false,
     "start_time": "2023-03-10T04:27:14.238885",
     "status": "completed"
    },
    "tags": []
   },
   "outputs": [
    {
     "name": "stderr",
     "output_type": "stream",
     "text": [
      "100%|██████████| 10/10 [01:25<00:00,  8.56s/it]\n"
     ]
    },
    {
     "name": "stdout",
     "output_type": "stream",
     "text": [
      "\n",
      "###################################################################################################################\n",
      "# Training Time for activation sigmoid with Adaptive Learning (Adam):  85.5919976234436 seconds\n",
      "# Classification Performance for activation sigmoid with Adaptive Learning (Adam): 0.6227\n",
      "###################################################################################################################\n"
     ]
    }
   ],
   "source": [
    "activation = nn.Sigmoid().cuda()\n",
    "model = MyCNN(activation)\n",
    "ModelTester(model, optimizer = optim.Adam(model.parameters()), name = \"sigmoid\", opt_name = \"Adaptive Learning (Adam)\")"
   ]
  },
  {
   "cell_type": "code",
   "execution_count": 10,
   "id": "b74b9837",
   "metadata": {
    "execution": {
     "iopub.execute_input": "2023-03-10T04:28:41.199883Z",
     "iopub.status.busy": "2023-03-10T04:28:41.199591Z",
     "iopub.status.idle": "2023-03-10T04:30:00.503109Z",
     "shell.execute_reply": "2023-03-10T04:30:00.501389Z"
    },
    "papermill": {
     "duration": 79.31322,
     "end_time": "2023-03-10T04:30:00.505910",
     "exception": false,
     "start_time": "2023-03-10T04:28:41.192690",
     "status": "completed"
    },
    "tags": []
   },
   "outputs": [
    {
     "name": "stderr",
     "output_type": "stream",
     "text": [
      "100%|██████████| 10/10 [01:17<00:00,  7.79s/it]\n"
     ]
    },
    {
     "name": "stdout",
     "output_type": "stream",
     "text": [
      "\n",
      "###################################################################################################################\n",
      "# Training Time for activation relu with Without Momentum (SGD):  77.95045971870422 seconds\n",
      "# Classification Performance for activation relu with Without Momentum (SGD): 0.5419\n",
      "###################################################################################################################\n"
     ]
    }
   ],
   "source": [
    "activation = nn.ReLU().cuda()\n",
    "model = MyCNN(activation)\n",
    "ModelTester(model, optimizer = optim.SGD(model.parameters(), lr=0.01), name = \"relu\", opt_name = \"Without Momentum (SGD)\")"
   ]
  },
  {
   "cell_type": "code",
   "execution_count": 11,
   "id": "bde4be07",
   "metadata": {
    "execution": {
     "iopub.execute_input": "2023-03-10T04:30:00.521417Z",
     "iopub.status.busy": "2023-03-10T04:30:00.521100Z",
     "iopub.status.idle": "2023-03-10T04:31:21.896520Z",
     "shell.execute_reply": "2023-03-10T04:31:21.895242Z"
    },
    "papermill": {
     "duration": 81.385695,
     "end_time": "2023-03-10T04:31:21.899099",
     "exception": false,
     "start_time": "2023-03-10T04:30:00.513404",
     "status": "completed"
    },
    "tags": []
   },
   "outputs": [
    {
     "name": "stderr",
     "output_type": "stream",
     "text": [
      "100%|██████████| 10/10 [01:20<00:00,  8.00s/it]\n"
     ]
    },
    {
     "name": "stdout",
     "output_type": "stream",
     "text": [
      "\n",
      "###################################################################################################################\n",
      "# Training Time for activation relu with With Momentum (SGD):  80.02108192443848 seconds\n",
      "# Classification Performance for activation relu with With Momentum (SGD): 0.7614\n",
      "###################################################################################################################\n"
     ]
    }
   ],
   "source": [
    "activation = nn.ReLU().cuda()\n",
    "model = MyCNN(activation)\n",
    "ModelTester(model, optimizer = optim.SGD(model.parameters(), lr=0.01, momentum = 0.9), name = \"relu\", opt_name = \"With Momentum (SGD)\")"
   ]
  },
  {
   "cell_type": "code",
   "execution_count": null,
   "id": "20a9aea1",
   "metadata": {
    "papermill": {
     "duration": 0.006866,
     "end_time": "2023-03-10T04:31:21.913975",
     "exception": false,
     "start_time": "2023-03-10T04:31:21.907109",
     "status": "completed"
    },
    "tags": []
   },
   "outputs": [],
   "source": []
  }
 ],
 "metadata": {
  "kernelspec": {
   "display_name": "Python 3",
   "language": "python",
   "name": "python3"
  },
  "language_info": {
   "codemirror_mode": {
    "name": "ipython",
    "version": 3
   },
   "file_extension": ".py",
   "mimetype": "text/x-python",
   "name": "python",
   "nbconvert_exporter": "python",
   "pygments_lexer": "ipython3",
   "version": "3.7.12"
  },
  "papermill": {
   "default_parameters": {},
   "duration": 449.518051,
   "end_time": "2023-03-10T04:31:24.172801",
   "environment_variables": {},
   "exception": null,
   "input_path": "__notebook__.ipynb",
   "output_path": "__notebook__.ipynb",
   "parameters": {},
   "start_time": "2023-03-10T04:23:54.654750",
   "version": "2.3.4"
  },
  "widgets": {
   "application/vnd.jupyter.widget-state+json": {
    "state": {
     "0b5da0ce98834fbf87ce24965fb25a9e": {
      "model_module": "@jupyter-widgets/base",
      "model_module_version": "1.2.0",
      "model_name": "LayoutModel",
      "state": {
       "_model_module": "@jupyter-widgets/base",
       "_model_module_version": "1.2.0",
       "_model_name": "LayoutModel",
       "_view_count": null,
       "_view_module": "@jupyter-widgets/base",
       "_view_module_version": "1.2.0",
       "_view_name": "LayoutView",
       "align_content": null,
       "align_items": null,
       "align_self": null,
       "border": null,
       "bottom": null,
       "display": null,
       "flex": null,
       "flex_flow": null,
       "grid_area": null,
       "grid_auto_columns": null,
       "grid_auto_flow": null,
       "grid_auto_rows": null,
       "grid_column": null,
       "grid_gap": null,
       "grid_row": null,
       "grid_template_areas": null,
       "grid_template_columns": null,
       "grid_template_rows": null,
       "height": null,
       "justify_content": null,
       "justify_items": null,
       "left": null,
       "margin": null,
       "max_height": null,
       "max_width": null,
       "min_height": null,
       "min_width": null,
       "object_fit": null,
       "object_position": null,
       "order": null,
       "overflow": null,
       "overflow_x": null,
       "overflow_y": null,
       "padding": null,
       "right": null,
       "top": null,
       "visibility": null,
       "width": null
      }
     },
     "33546e140aa84ba2a5dc0383892fc803": {
      "model_module": "@jupyter-widgets/controls",
      "model_module_version": "1.5.0",
      "model_name": "HTMLModel",
      "state": {
       "_dom_classes": [],
       "_model_module": "@jupyter-widgets/controls",
       "_model_module_version": "1.5.0",
       "_model_name": "HTMLModel",
       "_view_count": null,
       "_view_module": "@jupyter-widgets/controls",
       "_view_module_version": "1.5.0",
       "_view_name": "HTMLView",
       "description": "",
       "description_tooltip": null,
       "layout": "IPY_MODEL_0b5da0ce98834fbf87ce24965fb25a9e",
       "placeholder": "​",
       "style": "IPY_MODEL_caec125149bf415b8326ecc444a48287",
       "value": "100%"
      }
     },
     "4721a88e8667439aa408a78ad51fdb44": {
      "model_module": "@jupyter-widgets/controls",
      "model_module_version": "1.5.0",
      "model_name": "DescriptionStyleModel",
      "state": {
       "_model_module": "@jupyter-widgets/controls",
       "_model_module_version": "1.5.0",
       "_model_name": "DescriptionStyleModel",
       "_view_count": null,
       "_view_module": "@jupyter-widgets/base",
       "_view_module_version": "1.2.0",
       "_view_name": "StyleView",
       "description_width": ""
      }
     },
     "63b5da5a1dd849049f5825de79cebf6d": {
      "model_module": "@jupyter-widgets/controls",
      "model_module_version": "1.5.0",
      "model_name": "ProgressStyleModel",
      "state": {
       "_model_module": "@jupyter-widgets/controls",
       "_model_module_version": "1.5.0",
       "_model_name": "ProgressStyleModel",
       "_view_count": null,
       "_view_module": "@jupyter-widgets/base",
       "_view_module_version": "1.2.0",
       "_view_name": "StyleView",
       "bar_color": null,
       "description_width": ""
      }
     },
     "74899b30993144a294a09fa89ca7adfa": {
      "model_module": "@jupyter-widgets/base",
      "model_module_version": "1.2.0",
      "model_name": "LayoutModel",
      "state": {
       "_model_module": "@jupyter-widgets/base",
       "_model_module_version": "1.2.0",
       "_model_name": "LayoutModel",
       "_view_count": null,
       "_view_module": "@jupyter-widgets/base",
       "_view_module_version": "1.2.0",
       "_view_name": "LayoutView",
       "align_content": null,
       "align_items": null,
       "align_self": null,
       "border": null,
       "bottom": null,
       "display": null,
       "flex": null,
       "flex_flow": null,
       "grid_area": null,
       "grid_auto_columns": null,
       "grid_auto_flow": null,
       "grid_auto_rows": null,
       "grid_column": null,
       "grid_gap": null,
       "grid_row": null,
       "grid_template_areas": null,
       "grid_template_columns": null,
       "grid_template_rows": null,
       "height": null,
       "justify_content": null,
       "justify_items": null,
       "left": null,
       "margin": null,
       "max_height": null,
       "max_width": null,
       "min_height": null,
       "min_width": null,
       "object_fit": null,
       "object_position": null,
       "order": null,
       "overflow": null,
       "overflow_x": null,
       "overflow_y": null,
       "padding": null,
       "right": null,
       "top": null,
       "visibility": null,
       "width": null
      }
     },
     "94eb88910cff4a51b18f9b50a3428979": {
      "model_module": "@jupyter-widgets/controls",
      "model_module_version": "1.5.0",
      "model_name": "HBoxModel",
      "state": {
       "_dom_classes": [],
       "_model_module": "@jupyter-widgets/controls",
       "_model_module_version": "1.5.0",
       "_model_name": "HBoxModel",
       "_view_count": null,
       "_view_module": "@jupyter-widgets/controls",
       "_view_module_version": "1.5.0",
       "_view_name": "HBoxView",
       "box_style": "",
       "children": [
        "IPY_MODEL_33546e140aa84ba2a5dc0383892fc803",
        "IPY_MODEL_b9a3edf570e64c9b9f3f8a7691b9d72f",
        "IPY_MODEL_e553e5aa9a344f6083be20053ddf46ca"
       ],
       "layout": "IPY_MODEL_b74b51673bda41e28d87b0f2b35d4ca2"
      }
     },
     "b74b51673bda41e28d87b0f2b35d4ca2": {
      "model_module": "@jupyter-widgets/base",
      "model_module_version": "1.2.0",
      "model_name": "LayoutModel",
      "state": {
       "_model_module": "@jupyter-widgets/base",
       "_model_module_version": "1.2.0",
       "_model_name": "LayoutModel",
       "_view_count": null,
       "_view_module": "@jupyter-widgets/base",
       "_view_module_version": "1.2.0",
       "_view_name": "LayoutView",
       "align_content": null,
       "align_items": null,
       "align_self": null,
       "border": null,
       "bottom": null,
       "display": null,
       "flex": null,
       "flex_flow": null,
       "grid_area": null,
       "grid_auto_columns": null,
       "grid_auto_flow": null,
       "grid_auto_rows": null,
       "grid_column": null,
       "grid_gap": null,
       "grid_row": null,
       "grid_template_areas": null,
       "grid_template_columns": null,
       "grid_template_rows": null,
       "height": null,
       "justify_content": null,
       "justify_items": null,
       "left": null,
       "margin": null,
       "max_height": null,
       "max_width": null,
       "min_height": null,
       "min_width": null,
       "object_fit": null,
       "object_position": null,
       "order": null,
       "overflow": null,
       "overflow_x": null,
       "overflow_y": null,
       "padding": null,
       "right": null,
       "top": null,
       "visibility": null,
       "width": null
      }
     },
     "b9a3edf570e64c9b9f3f8a7691b9d72f": {
      "model_module": "@jupyter-widgets/controls",
      "model_module_version": "1.5.0",
      "model_name": "FloatProgressModel",
      "state": {
       "_dom_classes": [],
       "_model_module": "@jupyter-widgets/controls",
       "_model_module_version": "1.5.0",
       "_model_name": "FloatProgressModel",
       "_view_count": null,
       "_view_module": "@jupyter-widgets/controls",
       "_view_module_version": "1.5.0",
       "_view_name": "ProgressView",
       "bar_style": "success",
       "description": "",
       "description_tooltip": null,
       "layout": "IPY_MODEL_bccebd99a3a6499494848a0db7248774",
       "max": 170498071.0,
       "min": 0.0,
       "orientation": "horizontal",
       "style": "IPY_MODEL_63b5da5a1dd849049f5825de79cebf6d",
       "value": 170498071.0
      }
     },
     "bccebd99a3a6499494848a0db7248774": {
      "model_module": "@jupyter-widgets/base",
      "model_module_version": "1.2.0",
      "model_name": "LayoutModel",
      "state": {
       "_model_module": "@jupyter-widgets/base",
       "_model_module_version": "1.2.0",
       "_model_name": "LayoutModel",
       "_view_count": null,
       "_view_module": "@jupyter-widgets/base",
       "_view_module_version": "1.2.0",
       "_view_name": "LayoutView",
       "align_content": null,
       "align_items": null,
       "align_self": null,
       "border": null,
       "bottom": null,
       "display": null,
       "flex": null,
       "flex_flow": null,
       "grid_area": null,
       "grid_auto_columns": null,
       "grid_auto_flow": null,
       "grid_auto_rows": null,
       "grid_column": null,
       "grid_gap": null,
       "grid_row": null,
       "grid_template_areas": null,
       "grid_template_columns": null,
       "grid_template_rows": null,
       "height": null,
       "justify_content": null,
       "justify_items": null,
       "left": null,
       "margin": null,
       "max_height": null,
       "max_width": null,
       "min_height": null,
       "min_width": null,
       "object_fit": null,
       "object_position": null,
       "order": null,
       "overflow": null,
       "overflow_x": null,
       "overflow_y": null,
       "padding": null,
       "right": null,
       "top": null,
       "visibility": null,
       "width": null
      }
     },
     "caec125149bf415b8326ecc444a48287": {
      "model_module": "@jupyter-widgets/controls",
      "model_module_version": "1.5.0",
      "model_name": "DescriptionStyleModel",
      "state": {
       "_model_module": "@jupyter-widgets/controls",
       "_model_module_version": "1.5.0",
       "_model_name": "DescriptionStyleModel",
       "_view_count": null,
       "_view_module": "@jupyter-widgets/base",
       "_view_module_version": "1.2.0",
       "_view_name": "StyleView",
       "description_width": ""
      }
     },
     "e553e5aa9a344f6083be20053ddf46ca": {
      "model_module": "@jupyter-widgets/controls",
      "model_module_version": "1.5.0",
      "model_name": "HTMLModel",
      "state": {
       "_dom_classes": [],
       "_model_module": "@jupyter-widgets/controls",
       "_model_module_version": "1.5.0",
       "_model_name": "HTMLModel",
       "_view_count": null,
       "_view_module": "@jupyter-widgets/controls",
       "_view_module_version": "1.5.0",
       "_view_name": "HTMLView",
       "description": "",
       "description_tooltip": null,
       "layout": "IPY_MODEL_74899b30993144a294a09fa89ca7adfa",
       "placeholder": "​",
       "style": "IPY_MODEL_4721a88e8667439aa408a78ad51fdb44",
       "value": " 170498071/170498071 [00:02&lt;00:00, 87917578.70it/s]"
      }
     }
    },
    "version_major": 2,
    "version_minor": 0
   }
  }
 },
 "nbformat": 4,
 "nbformat_minor": 5
}
